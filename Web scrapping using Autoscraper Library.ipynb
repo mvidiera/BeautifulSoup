{
 "cells": [
  {
   "cell_type": "code",
   "execution_count": 4,
   "id": "0ba8d684",
   "metadata": {},
   "outputs": [
    {
     "name": "stdout",
     "output_type": "stream",
     "text": [
      "Collecting autoscraper\n",
      "  Downloading autoscraper-1.1.14-py3-none-any.whl (10 kB)\n",
      "Requirement already satisfied: bs4 in c:\\users\\vidieme\\anaconda3\\lib\\site-packages (from autoscraper) (0.0.1)\n",
      "Requirement already satisfied: requests in c:\\users\\vidieme\\anaconda3\\lib\\site-packages (from autoscraper) (2.27.1)\n",
      "Requirement already satisfied: lxml in c:\\users\\vidieme\\anaconda3\\lib\\site-packages (from autoscraper) (4.8.0)\n",
      "Requirement already satisfied: beautifulsoup4 in c:\\users\\vidieme\\appdata\\roaming\\python\\python39\\site-packages (from bs4->autoscraper) (4.11.1)\n",
      "Requirement already satisfied: soupsieve>1.2 in c:\\users\\vidieme\\appdata\\roaming\\python\\python39\\site-packages (from beautifulsoup4->bs4->autoscraper) (2.3.2.post1)\n",
      "Requirement already satisfied: idna<4,>=2.5 in c:\\users\\vidieme\\anaconda3\\lib\\site-packages (from requests->autoscraper) (3.3)\n",
      "Requirement already satisfied: urllib3<1.27,>=1.21.1 in c:\\users\\vidieme\\anaconda3\\lib\\site-packages (from requests->autoscraper) (1.26.9)\n",
      "Requirement already satisfied: certifi>=2017.4.17 in c:\\users\\vidieme\\anaconda3\\lib\\site-packages (from requests->autoscraper) (2021.10.8)\n",
      "Requirement already satisfied: charset-normalizer~=2.0.0 in c:\\users\\vidieme\\anaconda3\\lib\\site-packages (from requests->autoscraper) (2.0.4)\n",
      "Installing collected packages: autoscraper\n",
      "Successfully installed autoscraper-1.1.14\n"
     ]
    }
   ],
   "source": [
    "!pip install autoscraper\n"
   ]
  },
  {
   "cell_type": "code",
   "execution_count": 5,
   "id": "41aab6c7",
   "metadata": {},
   "outputs": [],
   "source": [
    "from autoscraper import AutoScraper"
   ]
  },
  {
   "cell_type": "code",
   "execution_count": 6,
   "id": "d80fbb70",
   "metadata": {},
   "outputs": [],
   "source": [
    "amazon_url= \"https://www.amazon.in/s?k=macbook&ref=nb_sb_noss\"\n",
    "wanted_list= [\"₹1,07,900\",\"2022 Apple MacBook Air Laptop with M2 chip: 34.46 cm (13.6-inch) Liquid Retina Display, 8GB RAM, 256GB SSD\", \"4.7\"]"
   ]
  },
  {
   "cell_type": "code",
   "execution_count": 7,
   "id": "314334e1",
   "metadata": {},
   "outputs": [
    {
     "name": "stdout",
     "output_type": "stream",
     "text": [
      "['₹87,900', '₹99,900', '₹1,299', '₹2,999', '₹349', '₹1,07,900', '₹1,19,900', '₹89,900', '₹2,19,990', '₹2,39,900', '₹1,12,990', '₹89,990', '₹1,11,490', '₹3,07,990', '₹3,29,900', '₹1,19,990', '₹1,29,900', '₹1,34,900', '₹1,49,900', '₹1,82,990', '₹1,94,900', '₹2,42,990', '₹2,59,900', '₹1,79,990', '₹1,37,990']\n"
     ]
    }
   ],
   "source": [
    "scraper= AutoScraper()\n",
    "result= scraper.build(amazon_url, wanted_list)\n",
    "print(result)"
   ]
  },
  {
   "cell_type": "code",
   "execution_count": 8,
   "id": "7bb552cb",
   "metadata": {},
   "outputs": [
    {
     "name": "stdout",
     "output_type": "stream",
     "text": [
      "['₹87,900', '₹99,900', '₹1,299', '₹2,999', '₹349', '₹1,07,900', '₹1,19,900', '₹89,900', '₹2,19,990', '₹2,39,900', '₹1,12,990', '₹89,990', '₹1,11,490', '₹3,07,990', '₹3,29,900', '₹1,19,990', '₹1,29,900', '₹1,34,900', '₹1,49,900', '₹1,82,990', '₹1,94,900', '₹2,42,990', '₹2,59,900', '₹1,79,990', '₹1,37,990']\n"
     ]
    }
   ],
   "source": [
    "amazon_url1=\"https://www.amazon.in/s?k=iphones\"\n",
    "\n",
    "wanted_list1=[\"₹58,400\",\"New Apple iPhone 11 (128GB) - Black\"]\n",
    "result1=scraper.build(amazon_url1,wanted_list1)\n",
    "print(result)"
   ]
  },
  {
   "cell_type": "code",
   "execution_count": 10,
   "id": "a6ef67d8",
   "metadata": {},
   "outputs": [
    {
     "name": "stdout",
     "output_type": "stream",
     "text": [
      "[]\n"
     ]
    }
   ],
   "source": [
    "link1= \"https://vecrm.verizon.com/vecrm/1d/index.html#/customer/53198/customerpod\"\n",
    "fetch= [\"Billing\"]\n",
    "res= scraper.build(link1, fetch)\n",
    "print(res)\n",
    "\n"
   ]
  },
  {
   "cell_type": "code",
   "execution_count": null,
   "id": "41ae8ca9",
   "metadata": {},
   "outputs": [],
   "source": []
  }
 ],
 "metadata": {
  "kernelspec": {
   "display_name": "Python 3 (ipykernel)",
   "language": "python",
   "name": "python3"
  },
  "language_info": {
   "codemirror_mode": {
    "name": "ipython",
    "version": 3
   },
   "file_extension": ".py",
   "mimetype": "text/x-python",
   "name": "python",
   "nbconvert_exporter": "python",
   "pygments_lexer": "ipython3",
   "version": "3.9.12"
  }
 },
 "nbformat": 4,
 "nbformat_minor": 5
}
