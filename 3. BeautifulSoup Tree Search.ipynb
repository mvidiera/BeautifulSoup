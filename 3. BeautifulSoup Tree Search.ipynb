{
 "cells": [
  {
   "cell_type": "code",
   "execution_count": 1,
   "id": "8a8749ab",
   "metadata": {},
   "outputs": [],
   "source": [
    "html_doc = \"\"\"\n",
    "<html><head><title>The Dormouse's story</title></head>\n",
    "<body>\n",
    "<p class=\"title\"><b>The Dormouse's story</b></p>\n",
    "\n",
    "<p class=\"story\">Once upon a time there were three little sisters; and their names were\n",
    "<a href=\"http://example.com/elsie\" class=\"sister\" id=\"link1\">Elsie</a>,\n",
    "<a href=\"http://example.com/lacie\" class=\"sister\" id=\"link2\">Lacie</a> and\n",
    "<a href=\"http://example.com/tillie\" class=\"sister\" id=\"link3\">Tillie</a>;\n",
    "and they lived at the bottom of a well.</p>\n",
    "\n",
    "<p class=\"story\">...</p>\n",
    "\"\"\"\n",
    "\n",
    "from bs4 import BeautifulSoup\n",
    "soup = BeautifulSoup(html_doc, 'html.parser')"
   ]
  },
  {
   "cell_type": "code",
   "execution_count": 2,
   "id": "696638fa",
   "metadata": {},
   "outputs": [
    {
     "data": {
      "text/plain": [
       "[<b>The Dormouse's story</b>]"
      ]
     },
     "execution_count": 2,
     "metadata": {},
     "output_type": "execute_result"
    }
   ],
   "source": [
    "#find() and find_all() are most used searching techniques within tree\n",
    "soup.find_all('b') #pass tag name as argument\n",
    "#find_all returns all the tags within set "
   ]
  },
  {
   "cell_type": "code",
   "execution_count": 4,
   "id": "f61360c7",
   "metadata": {},
   "outputs": [
    {
     "data": {
      "text/plain": [
       "bs4.element.ResultSet"
      ]
     },
     "execution_count": 4,
     "metadata": {},
     "output_type": "execute_result"
    }
   ],
   "source": [
    "type(soup.find_all('b'))"
   ]
  },
  {
   "cell_type": "code",
   "execution_count": 3,
   "id": "f1dcd028",
   "metadata": {},
   "outputs": [
    {
     "data": {
      "text/plain": [
       "[<a class=\"sister\" href=\"http://example.com/elsie\" id=\"link1\">Elsie</a>,\n",
       " <a class=\"sister\" href=\"http://example.com/lacie\" id=\"link2\">Lacie</a>,\n",
       " <a class=\"sister\" href=\"http://example.com/tillie\" id=\"link3\">Tillie</a>]"
      ]
     },
     "execution_count": 3,
     "metadata": {},
     "output_type": "execute_result"
    }
   ],
   "source": [
    "soup.find_all('a')"
   ]
  },
  {
   "cell_type": "code",
   "execution_count": 5,
   "id": "89e4802e",
   "metadata": {},
   "outputs": [
    {
     "data": {
      "text/plain": [
       "<a class=\"sister\" href=\"http://example.com/elsie\" id=\"link1\">Elsie</a>"
      ]
     },
     "execution_count": 5,
     "metadata": {},
     "output_type": "execute_result"
    }
   ],
   "source": [
    "soup.find('a')\n",
    "#find returns 1st tag mentioned"
   ]
  },
  {
   "cell_type": "markdown",
   "id": "dafef534",
   "metadata": {},
   "source": [
    "### regular expression"
   ]
  },
  {
   "cell_type": "code",
   "execution_count": 12,
   "id": "6f93159a",
   "metadata": {},
   "outputs": [
    {
     "name": "stdout",
     "output_type": "stream",
     "text": [
      "body\n",
      "b\n"
     ]
    }
   ],
   "source": [
    "import re\n",
    "for tag in soup.find_all(re.compile(\"^b\")):\n",
    "    print(tag.name)\n",
    "    # finds all the tags whose names starts with the letter “b”"
   ]
  },
  {
   "cell_type": "code",
   "execution_count": 13,
   "id": "c0905f77",
   "metadata": {},
   "outputs": [
    {
     "name": "stdout",
     "output_type": "stream",
     "text": [
      "html\n",
      "title\n"
     ]
    }
   ],
   "source": [
    "for tag in soup.find_all(re.compile(\"t\")):\n",
    "    print(tag.name)\n",
    "#last code gave list which started with b, this one returns the list of tag names which contains t"
   ]
  },
  {
   "cell_type": "markdown",
   "id": "27fd6655",
   "metadata": {},
   "source": [
    "## Functions\n",
    "- If none of matches work, a function can be defined which takes element as argument.\n",
    "- Function returns true if there is match, else false"
   ]
  },
  {
   "cell_type": "code",
   "execution_count": 27,
   "id": "471977ff",
   "metadata": {},
   "outputs": [],
   "source": [
    "def has_class_but_no_id(tag):\n",
    "    return tag.has_attr('class') and not tag.has_attr('id')\n",
    "\n",
    "#fetching 'p' tags without mentioning <p> tag\n",
    "#here function returns tag which has class attribute and not id attribute\n",
    "#this function picks up only p tags as it can have class and not id attributes\n",
    "# doesn't pick up <a> and html tags"
   ]
  },
  {
   "cell_type": "code",
   "execution_count": 28,
   "id": "774517cb",
   "metadata": {},
   "outputs": [
    {
     "data": {
      "text/plain": [
       "[<p class=\"title\"><b>The Dormouse's story</b></p>,\n",
       " <p class=\"story\">Once upon a time there were three little sisters; and their names were\n",
       " <a class=\"sister\" href=\"http://example.com/elsie\" id=\"link1\">Elsie</a>,\n",
       " <a class=\"sister\" href=\"http://example.com/lacie\" id=\"link2\">Lacie</a> and\n",
       " <a class=\"sister\" href=\"http://example.com/tillie\" id=\"link3\">Tillie</a>;\n",
       " and they lived at the bottom of a well.</p>,\n",
       " <p class=\"story\">...</p>]"
      ]
     },
     "execution_count": 28,
     "metadata": {},
     "output_type": "execute_result"
    }
   ],
   "source": [
    "#Passing this function into find_all()\n",
    "soup.find_all(has_class_but_no_id)\n",
    "#this should not return p tags with id. (check code)"
   ]
  },
  {
   "cell_type": "code",
   "execution_count": 29,
   "id": "ecc7826b",
   "metadata": {},
   "outputs": [],
   "source": [
    "import re\n",
    "def not_lacie(href):\n",
    "    return href and not re.compile(\"lacie\").search(href)\n",
    "\n",
    "#compile() function takes source code as input and returns a code object which is ready to be \n",
    "#executed and which can later be executed by the exec() function.\n",
    "\n",
    "# we have 3 href(3 sisters), discard Lacie and print other 2 sister's href"
   ]
  },
  {
   "cell_type": "code",
   "execution_count": 30,
   "id": "e412d9c9",
   "metadata": {},
   "outputs": [
    {
     "data": {
      "text/plain": [
       "[<a class=\"sister\" href=\"http://example.com/elsie\" id=\"link1\">Elsie</a>,\n",
       " <a class=\"sister\" href=\"http://example.com/tillie\" id=\"link3\">Tillie</a>]"
      ]
     },
     "execution_count": 30,
     "metadata": {},
     "output_type": "execute_result"
    }
   ],
   "source": [
    "soup.find_all(href=not_lacie)"
   ]
  },
  {
   "cell_type": "code",
   "execution_count": 31,
   "id": "8918feeb",
   "metadata": {},
   "outputs": [
    {
     "name": "stdout",
     "output_type": "stream",
     "text": [
      "body\n",
      "p\n",
      "a\n",
      "a\n",
      "a\n",
      "p\n"
     ]
    }
   ],
   "source": [
    "from bs4 import NavigableString\n",
    "def surrounded_by_strings(tag):\n",
    "    return (isinstance(tag.next_element, NavigableString)\n",
    "            and isinstance(tag.previous_element, NavigableString))\n",
    "\n",
    "for tag in soup.find_all(surrounded_by_strings):\n",
    "    print(tag.name)\n",
    "    \n",
    "    #this function returns true if tag is surrounded by string objects"
   ]
  },
  {
   "cell_type": "markdown",
   "id": "0ae473ef",
   "metadata": {},
   "source": [
    "### find_all()\n",
    "- I can pass these attributes: name, attrs, recursive, string, limit, **kwargs "
   ]
  },
  {
   "cell_type": "code",
   "execution_count": 32,
   "id": "5ec99da1",
   "metadata": {},
   "outputs": [
    {
     "data": {
      "text/plain": [
       "[<title>The Dormouse's story</title>]"
      ]
     },
     "execution_count": 32,
     "metadata": {},
     "output_type": "execute_result"
    }
   ],
   "source": [
    "soup.find_all(\"title\")\n",
    "# returns title tags"
   ]
  },
  {
   "cell_type": "code",
   "execution_count": 33,
   "id": "1185032b",
   "metadata": {},
   "outputs": [
    {
     "data": {
      "text/plain": [
       "[<p class=\"title\"><b>The Dormouse's story</b></p>]"
      ]
     },
     "execution_count": 33,
     "metadata": {},
     "output_type": "execute_result"
    }
   ],
   "source": [
    "# this finds all tag with has both title and <p> tag\n",
    "soup.find_all(\"p\", \"title\")"
   ]
  },
  {
   "cell_type": "code",
   "execution_count": 34,
   "id": "b864844b",
   "metadata": {},
   "outputs": [
    {
     "data": {
      "text/plain": [
       "[<a class=\"sister\" href=\"http://example.com/elsie\" id=\"link1\">Elsie</a>,\n",
       " <a class=\"sister\" href=\"http://example.com/lacie\" id=\"link2\">Lacie</a>,\n",
       " <a class=\"sister\" href=\"http://example.com/tillie\" id=\"link3\">Tillie</a>]"
      ]
     },
     "execution_count": 34,
     "metadata": {},
     "output_type": "execute_result"
    }
   ],
   "source": [
    "soup.find_all(\"a\")\n",
    "# returns all a tags"
   ]
  },
  {
   "cell_type": "code",
   "execution_count": 35,
   "id": "75ed6942",
   "metadata": {},
   "outputs": [
    {
     "data": {
      "text/plain": [
       "[<a class=\"sister\" href=\"http://example.com/lacie\" id=\"link2\">Lacie</a>]"
      ]
     },
     "execution_count": 35,
     "metadata": {},
     "output_type": "execute_result"
    }
   ],
   "source": [
    "soup.find_all(id=\"link2\")\n",
    "# passing attribute with the value of attr."
   ]
  },
  {
   "cell_type": "code",
   "execution_count": 36,
   "id": "b564a787",
   "metadata": {},
   "outputs": [
    {
     "data": {
      "text/plain": [
       "'Once upon a time there were three little sisters; and their names were\\n'"
      ]
     },
     "execution_count": 36,
     "metadata": {},
     "output_type": "execute_result"
    }
   ],
   "source": [
    "# find string(navigable string) which has sisters\n",
    "soup.find(string=re.compile(\"sisters\"))"
   ]
  },
  {
   "cell_type": "code",
   "execution_count": 39,
   "id": "c0812c35",
   "metadata": {},
   "outputs": [
    {
     "name": "stdout",
     "output_type": "stream",
     "text": [
      "None\n"
     ]
    }
   ],
   "source": [
    "# there is no word in navigablestring called hello\n",
    "print(soup.find(string=re.compile(\"hello\")))"
   ]
  },
  {
   "cell_type": "markdown",
   "id": "3b561f4e",
   "metadata": {},
   "source": [
    "### Argument: name"
   ]
  },
  {
   "cell_type": "code",
   "execution_count": 40,
   "id": "515a2238",
   "metadata": {},
   "outputs": [
    {
     "data": {
      "text/plain": [
       "[<title>The Dormouse's story</title>]"
      ]
     },
     "execution_count": 40,
     "metadata": {},
     "output_type": "execute_result"
    }
   ],
   "source": [
    "soup.find_all(\"title\")"
   ]
  },
  {
   "cell_type": "markdown",
   "id": "61ba9d9b",
   "metadata": {},
   "source": [
    "### argument: keyword"
   ]
  },
  {
   "cell_type": "code",
   "execution_count": 41,
   "id": "3250624c",
   "metadata": {},
   "outputs": [
    {
     "data": {
      "text/plain": [
       "[<a class=\"sister\" href=\"http://example.com/lacie\" id=\"link2\">Lacie</a>]"
      ]
     },
     "execution_count": 41,
     "metadata": {},
     "output_type": "execute_result"
    }
   ],
   "source": [
    "soup.find_all(id='link2')"
   ]
  },
  {
   "cell_type": "code",
   "execution_count": 42,
   "id": "82ee9cab",
   "metadata": {},
   "outputs": [
    {
     "data": {
      "text/plain": [
       "[<a class=\"sister\" href=\"http://example.com/elsie\" id=\"link1\">Elsie</a>]"
      ]
     },
     "execution_count": 42,
     "metadata": {},
     "output_type": "execute_result"
    }
   ],
   "source": [
    "# here, href part will be looked for word elsie\n",
    "soup.find_all(href=re.compile(\"elsie\"))"
   ]
  },
  {
   "cell_type": "code",
   "execution_count": 43,
   "id": "af2aac7a",
   "metadata": {},
   "outputs": [
    {
     "data": {
      "text/plain": [
       "[]"
      ]
     },
     "execution_count": 43,
     "metadata": {},
     "output_type": "execute_result"
    }
   ],
   "source": [
    "soup.find_all(re.compile(\"elsie\")) # here <p> tags will be looked for word elsie. \n",
    "# there is no elsie word in p tag"
   ]
  },
  {
   "cell_type": "code",
   "execution_count": 44,
   "id": "442a9998",
   "metadata": {},
   "outputs": [
    {
     "data": {
      "text/plain": [
       "[<title>The Dormouse's story</title>]"
      ]
     },
     "execution_count": 44,
     "metadata": {},
     "output_type": "execute_result"
    }
   ],
   "source": [
    "#applying same logic shown above, I have passed value \"title\", parser looks for this value under\n",
    "# <p> tag\n",
    "soup.find_all(re.compile(\"title\"))"
   ]
  },
  {
   "cell_type": "code",
   "execution_count": 45,
   "id": "e848fcf3",
   "metadata": {},
   "outputs": [
    {
     "data": {
      "text/plain": [
       "[<a class=\"sister\" href=\"http://example.com/elsie\" id=\"link1\">Elsie</a>,\n",
       " <a class=\"sister\" href=\"http://example.com/lacie\" id=\"link2\">Lacie</a>,\n",
       " <a class=\"sister\" href=\"http://example.com/tillie\" id=\"link3\">Tillie</a>]"
      ]
     },
     "execution_count": 45,
     "metadata": {},
     "output_type": "execute_result"
    }
   ],
   "source": [
    "soup.find_all(id=True)\n",
    "# I can also pass boolean value True or False\n",
    "# this returns where id has some values"
   ]
  },
  {
   "cell_type": "code",
   "execution_count": 51,
   "id": "e9d80b37",
   "metadata": {},
   "outputs": [],
   "source": [
    "#soup.find_all(id=False)"
   ]
  },
  {
   "cell_type": "code",
   "execution_count": 52,
   "id": "9ce238a5",
   "metadata": {},
   "outputs": [
    {
     "data": {
      "text/plain": [
       "[<a class=\"sister\" href=\"http://example.com/elsie\" id=\"link1\">Elsie</a>]"
      ]
     },
     "execution_count": 52,
     "metadata": {},
     "output_type": "execute_result"
    }
   ],
   "source": [
    "# passing multiple attributes and filtering out result\n",
    "soup.find_all(href=re.compile(\"elsie\"), id='link1')"
   ]
  },
  {
   "cell_type": "code",
   "execution_count": 53,
   "id": "153002e1",
   "metadata": {},
   "outputs": [
    {
     "ename": "SyntaxError",
     "evalue": "invalid syntax (1536493987.py, line 1)",
     "output_type": "error",
     "traceback": [
      "\u001b[1;36m  Input \u001b[1;32mIn [53]\u001b[1;36m\u001b[0m\n\u001b[1;33m    soup.find_all(href=re.compile(\"elsie\"), id='link1', class=\"sister\")\u001b[0m\n\u001b[1;37m                                                        ^\u001b[0m\n\u001b[1;31mSyntaxError\u001b[0m\u001b[1;31m:\u001b[0m invalid syntax\n"
     ]
    }
   ],
   "source": [
    "soup.find_all(href=re.compile(\"elsie\"), id='link1', class=\"sister\")\n",
    "# obviously doesnt work as elsie and id are part of href. class is out of href tag"
   ]
  },
  {
   "cell_type": "code",
   "execution_count": 54,
   "id": "3c42559d",
   "metadata": {},
   "outputs": [
    {
     "ename": "SyntaxError",
     "evalue": "invalid syntax (3061413822.py, line 1)",
     "output_type": "error",
     "traceback": [
      "\u001b[1;36m  Input \u001b[1;32mIn [54]\u001b[1;36m\u001b[0m\n\u001b[1;33m    soup.find_all(class= 'sister')\u001b[0m\n\u001b[1;37m                  ^\u001b[0m\n\u001b[1;31mSyntaxError\u001b[0m\u001b[1;31m:\u001b[0m invalid syntax\n"
     ]
    }
   ],
   "source": [
    "soup.find_all(class = 'sister') # this doesnt work as class is reserved keyword\n"
   ]
  },
  {
   "cell_type": "code",
   "execution_count": 58,
   "id": "5f9a3e49",
   "metadata": {},
   "outputs": [
    {
     "data": {
      "text/plain": [
       "[<a class=\"sister\" href=\"http://example.com/elsie\" id=\"link1\">Elsie</a>,\n",
       " <a class=\"sister\" href=\"http://example.com/lacie\" id=\"link2\">Lacie</a>,\n",
       " <a class=\"sister\" href=\"http://example.com/tillie\" id=\"link3\">Tillie</a>]"
      ]
     },
     "execution_count": 58,
     "metadata": {},
     "output_type": "execute_result"
    }
   ],
   "source": [
    "soup.find_all(class_ = 'sister')"
   ]
  },
  {
   "cell_type": "code",
   "execution_count": 55,
   "id": "b240cd90",
   "metadata": {},
   "outputs": [
    {
     "data": {
      "text/plain": [
       "[]"
      ]
     },
     "execution_count": 55,
     "metadata": {},
     "output_type": "execute_result"
    }
   ],
   "source": [
    "name_soup = BeautifulSoup('<input name=\"email\"/>', 'html.parser')\n",
    "name_soup.find_all(name=\"email\")"
   ]
  },
  {
   "cell_type": "code",
   "execution_count": 56,
   "id": "e46470e5",
   "metadata": {},
   "outputs": [
    {
     "data": {
      "text/plain": [
       "[<input name=\"email\"/>]"
      ]
     },
     "execution_count": 56,
     "metadata": {},
     "output_type": "execute_result"
    }
   ],
   "source": [
    "name_soup.find_all(attrs={\"name\": \"email\"})"
   ]
  },
  {
   "cell_type": "markdown",
   "id": "8e876fbb",
   "metadata": {},
   "source": [
    "### Searching by CSS class"
   ]
  },
  {
   "cell_type": "code",
   "execution_count": 57,
   "id": "f53ee993",
   "metadata": {},
   "outputs": [
    {
     "data": {
      "text/plain": [
       "[<a class=\"sister\" href=\"http://example.com/elsie\" id=\"link1\">Elsie</a>,\n",
       " <a class=\"sister\" href=\"http://example.com/lacie\" id=\"link2\">Lacie</a>,\n",
       " <a class=\"sister\" href=\"http://example.com/tillie\" id=\"link3\">Tillie</a>]"
      ]
     },
     "execution_count": 57,
     "metadata": {},
     "output_type": "execute_result"
    }
   ],
   "source": [
    "soup.find_all(\"a\", class_=\"sister\")"
   ]
  },
  {
   "cell_type": "code",
   "execution_count": 59,
   "id": "c7797043",
   "metadata": {},
   "outputs": [
    {
     "data": {
      "text/plain": [
       "[<p class=\"title\"><b>The Dormouse's story</b></p>]"
      ]
     },
     "execution_count": 59,
     "metadata": {},
     "output_type": "execute_result"
    }
   ],
   "source": [
    "soup.find_all(class_=re.compile(\"itl\")) #using regex fetch where class name has itl: title "
   ]
  },
  {
   "cell_type": "code",
   "execution_count": 62,
   "id": "5f5ab6d1",
   "metadata": {},
   "outputs": [
    {
     "data": {
      "text/plain": [
       "[<a class=\"sister\" href=\"http://example.com/elsie\" id=\"link1\">Elsie</a>,\n",
       " <a class=\"sister\" href=\"http://example.com/lacie\" id=\"link2\">Lacie</a>,\n",
       " <a class=\"sister\" href=\"http://example.com/tillie\" id=\"link3\">Tillie</a>]"
      ]
     },
     "execution_count": 62,
     "metadata": {},
     "output_type": "execute_result"
    }
   ],
   "source": [
    "soup.find_all(class_=re.compile(\"sis\"))"
   ]
  },
  {
   "cell_type": "code",
   "execution_count": 63,
   "id": "b97328e6",
   "metadata": {},
   "outputs": [],
   "source": [
    "# fetch using number of character/ length of classname\n",
    "def has_six_characters(css_class):\n",
    "    return css_class is not None and len(css_class) == 6"
   ]
  },
  {
   "cell_type": "code",
   "execution_count": 64,
   "id": "abc2bbea",
   "metadata": {},
   "outputs": [
    {
     "data": {
      "text/plain": [
       "[<a class=\"sister\" href=\"http://example.com/elsie\" id=\"link1\">Elsie</a>,\n",
       " <a class=\"sister\" href=\"http://example.com/lacie\" id=\"link2\">Lacie</a>,\n",
       " <a class=\"sister\" href=\"http://example.com/tillie\" id=\"link3\">Tillie</a>]"
      ]
     },
     "execution_count": 64,
     "metadata": {},
     "output_type": "execute_result"
    }
   ],
   "source": [
    "soup.find_all(class_=has_six_characters)"
   ]
  },
  {
   "cell_type": "code",
   "execution_count": 65,
   "id": "e20873a1",
   "metadata": {},
   "outputs": [
    {
     "data": {
      "text/plain": [
       "[]"
      ]
     },
     "execution_count": 65,
     "metadata": {},
     "output_type": "execute_result"
    }
   ],
   "source": [
    "def has_eight_characters(css_class):\n",
    "    return css_class is not None and len(css_class) == 8\n",
    "soup.find_all(class_=has_eight_characters)\n",
    "\n",
    "#there is no class name which has 8 characters"
   ]
  },
  {
   "cell_type": "code",
   "execution_count": 66,
   "id": "d620b1b3",
   "metadata": {},
   "outputs": [
    {
     "data": {
      "text/plain": [
       "[<p class=\"body strikeout\"></p>]"
      ]
     },
     "execution_count": 66,
     "metadata": {},
     "output_type": "execute_result"
    }
   ],
   "source": [
    "#class can have multiple values assigned, so I can assign value of class(class name)\n",
    "css_soup = BeautifulSoup('<p class=\"body strikeout\"></p>', 'html.parser')\n",
    "css_soup.find_all(\"p\", class_=\"strikeout\")"
   ]
  },
  {
   "cell_type": "code",
   "execution_count": 67,
   "id": "fc44fa3e",
   "metadata": {},
   "outputs": [
    {
     "data": {
      "text/plain": [
       "[<p class=\"body strikeout\"></p>]"
      ]
     },
     "execution_count": 67,
     "metadata": {},
     "output_type": "execute_result"
    }
   ],
   "source": [
    "css_soup.find_all(\"p\", class_=\"body\")"
   ]
  },
  {
   "cell_type": "code",
   "execution_count": 68,
   "id": "3861c54d",
   "metadata": {},
   "outputs": [
    {
     "data": {
      "text/plain": [
       "[<p class=\"body strikeout\"></p>]"
      ]
     },
     "execution_count": 68,
     "metadata": {},
     "output_type": "execute_result"
    }
   ],
   "source": [
    "css_soup.find_all(\"p\", class_=\"body strikeout\")"
   ]
  },
  {
   "cell_type": "code",
   "execution_count": 69,
   "id": "a7b253e1",
   "metadata": {},
   "outputs": [
    {
     "data": {
      "text/plain": [
       "[]"
      ]
     },
     "execution_count": 69,
     "metadata": {},
     "output_type": "execute_result"
    }
   ],
   "source": [
    "#trying to fetch class name which doesnt exist\n",
    "css_soup.find_all(\"p\", class_=\"strikeout body\")\n",
    "#returns nothing"
   ]
  },
  {
   "cell_type": "code",
   "execution_count": 70,
   "id": "599c8095",
   "metadata": {},
   "outputs": [
    {
     "data": {
      "text/plain": [
       "[<p class=\"body strikeout\"></p>]"
      ]
     },
     "execution_count": 70,
     "metadata": {},
     "output_type": "execute_result"
    }
   ],
   "source": [
    "css_soup.select(\"p.strikeout.body\") #matches two or more css classes"
   ]
  },
  {
   "cell_type": "code",
   "execution_count": 71,
   "id": "57f73700",
   "metadata": {},
   "outputs": [
    {
     "data": {
      "text/plain": [
       "[<a class=\"sister\" href=\"http://example.com/elsie\" id=\"link1\">Elsie</a>,\n",
       " <a class=\"sister\" href=\"http://example.com/lacie\" id=\"link2\">Lacie</a>,\n",
       " <a class=\"sister\" href=\"http://example.com/tillie\" id=\"link3\">Tillie</a>]"
      ]
     },
     "execution_count": 71,
     "metadata": {},
     "output_type": "execute_result"
    }
   ],
   "source": [
    "soup.find_all(\"a\", attrs={\"class\": \"sister\"})"
   ]
  },
  {
   "cell_type": "markdown",
   "id": "96f793d8",
   "metadata": {},
   "source": [
    "### string argument"
   ]
  },
  {
   "cell_type": "code",
   "execution_count": 72,
   "id": "cc7b1243",
   "metadata": {},
   "outputs": [
    {
     "data": {
      "text/plain": [
       "['Elsie']"
      ]
     },
     "execution_count": 72,
     "metadata": {},
     "output_type": "execute_result"
    }
   ],
   "source": [
    "soup.find_all(string=\"Elsie\")\n",
    "#returns set"
   ]
  },
  {
   "cell_type": "code",
   "execution_count": 77,
   "id": "1ff1002f",
   "metadata": {},
   "outputs": [
    {
     "data": {
      "text/plain": [
       "bs4.element.ResultSet"
      ]
     },
     "execution_count": 77,
     "metadata": {},
     "output_type": "execute_result"
    }
   ],
   "source": [
    "type(soup.find_all(string=\"Elsie\"))\n"
   ]
  },
  {
   "cell_type": "code",
   "execution_count": 73,
   "id": "f60ae7c2",
   "metadata": {},
   "outputs": [
    {
     "data": {
      "text/plain": [
       "['Elsie', 'Lacie', 'Tillie']"
      ]
     },
     "execution_count": 73,
     "metadata": {},
     "output_type": "execute_result"
    }
   ],
   "source": [
    "soup.find_all(string=[\"Tillie\", \"Elsie\", \"Lacie\"])"
   ]
  },
  {
   "cell_type": "code",
   "execution_count": 78,
   "id": "265ebe26",
   "metadata": {},
   "outputs": [
    {
     "data": {
      "text/plain": [
       "[\"The Dormouse's story\", \"The Dormouse's story\"]"
      ]
     },
     "execution_count": 78,
     "metadata": {},
     "output_type": "execute_result"
    }
   ],
   "source": [
    "soup.find_all(string=re.compile(\"Dormouse\"))\n",
    "# using regex returns string/text which contains word Dormouse"
   ]
  },
  {
   "cell_type": "code",
   "execution_count": 79,
   "id": "778dfb75",
   "metadata": {},
   "outputs": [],
   "source": [
    "def is_the_only_string_within_a_tag(s):\n",
    "    return (s == s.parent.string)"
   ]
  },
  {
   "cell_type": "code",
   "execution_count": 80,
   "id": "139e58a7",
   "metadata": {},
   "outputs": [
    {
     "data": {
      "text/plain": [
       "[\"The Dormouse's story\",\n",
       " \"The Dormouse's story\",\n",
       " 'Elsie',\n",
       " 'Lacie',\n",
       " 'Tillie',\n",
       " '...']"
      ]
     },
     "execution_count": 80,
     "metadata": {},
     "output_type": "execute_result"
    }
   ],
   "source": [
    "soup.find_all(string=is_the_only_string_within_a_tag)"
   ]
  },
  {
   "cell_type": "code",
   "execution_count": 75,
   "id": "0fddb004",
   "metadata": {},
   "outputs": [
    {
     "data": {
      "text/plain": [
       "[<a class=\"sister\" href=\"http://example.com/elsie\" id=\"link1\">Elsie</a>]"
      ]
     },
     "execution_count": 75,
     "metadata": {},
     "output_type": "execute_result"
    }
   ],
   "source": [
    "soup.find_all(\"a\", string=\"Elsie\")\n",
    "#returns anchor tag which has string Elsie"
   ]
  },
  {
   "cell_type": "code",
   "execution_count": 76,
   "id": "561228a0",
   "metadata": {},
   "outputs": [
    {
     "data": {
      "text/plain": [
       "[<a class=\"sister\" href=\"http://example.com/elsie\" id=\"link1\">Elsie</a>]"
      ]
     },
     "execution_count": 76,
     "metadata": {},
     "output_type": "execute_result"
    }
   ],
   "source": [
    "soup.find_all(\"a\", text=\"Elsie\")\n",
    "#early version of bs4 has text keyword instead of string"
   ]
  },
  {
   "cell_type": "markdown",
   "id": "e5e2d86f",
   "metadata": {},
   "source": [
    "### limit argument"
   ]
  },
  {
   "cell_type": "code",
   "execution_count": 81,
   "id": "26b2e301",
   "metadata": {},
   "outputs": [
    {
     "data": {
      "text/plain": [
       "[<a class=\"sister\" href=\"http://example.com/elsie\" id=\"link1\">Elsie</a>,\n",
       " <a class=\"sister\" href=\"http://example.com/lacie\" id=\"link2\">Lacie</a>]"
      ]
     },
     "execution_count": 81,
     "metadata": {},
     "output_type": "execute_result"
    }
   ],
   "source": [
    "soup.find_all(\"a\", limit=2)\n",
    "#generally document is so huge and final_all() fetches all tags mentioned.it can be thousands.\n",
    "# in this case I can limit the result using limit attribute "
   ]
  },
  {
   "cell_type": "markdown",
   "id": "9d611408",
   "metadata": {},
   "source": [
    "### recursive argument\n",
    "- find_all() examines all the children (descendants). In large documents there can be as many of children possible\n",
    "- to fetch just direct children (to fetch first I can still use find(), adding recursive attribute will generate direct children)"
   ]
  },
  {
   "cell_type": "code",
   "execution_count": 82,
   "id": "c07583d4",
   "metadata": {},
   "outputs": [
    {
     "data": {
      "text/plain": [
       "[<title>The Dormouse's story</title>]"
      ]
     },
     "execution_count": 82,
     "metadata": {},
     "output_type": "execute_result"
    }
   ],
   "source": [
    "soup.html.find_all(\"title\")"
   ]
  },
  {
   "cell_type": "code",
   "execution_count": 83,
   "id": "270d81da",
   "metadata": {},
   "outputs": [
    {
     "data": {
      "text/plain": [
       "[]"
      ]
     },
     "execution_count": 83,
     "metadata": {},
     "output_type": "execute_result"
    }
   ],
   "source": [
    "soup.html.find_all(\"title\", recursive=False)"
   ]
  },
  {
   "cell_type": "code",
   "execution_count": 84,
   "id": "0eabb569",
   "metadata": {},
   "outputs": [],
   "source": [
    "# The <title> tag is beneath the <html> tag, but it’s not directly beneath the <html> tag: \n",
    "#the <head> tag is in the way. Beautiful Soup finds the <title> tag when it’s allowed to look \n",
    "#at all descendants of the <html> tag, but when recursive=False restricts it to the <html> tag’s \n",
    "#immediate children, it finds nothing."
   ]
  },
  {
   "cell_type": "code",
   "execution_count": 86,
   "id": "cd1fd305",
   "metadata": {},
   "outputs": [
    {
     "data": {
      "text/plain": [
       "[<a class=\"sister\" href=\"http://example.com/elsie\" id=\"link1\">Elsie</a>,\n",
       " <a class=\"sister\" href=\"http://example.com/lacie\" id=\"link2\">Lacie</a>,\n",
       " <a class=\"sister\" href=\"http://example.com/tillie\" id=\"link3\">Tillie</a>]"
      ]
     },
     "execution_count": 86,
     "metadata": {},
     "output_type": "execute_result"
    }
   ],
   "source": [
    "soup.find_all(\"a\")\n",
    "#this fetches all nchor tags. also next example does same but syntax is different"
   ]
  },
  {
   "cell_type": "code",
   "execution_count": 87,
   "id": "77981f91",
   "metadata": {},
   "outputs": [
    {
     "data": {
      "text/plain": [
       "[<a class=\"sister\" href=\"http://example.com/elsie\" id=\"link1\">Elsie</a>,\n",
       " <a class=\"sister\" href=\"http://example.com/lacie\" id=\"link2\">Lacie</a>,\n",
       " <a class=\"sister\" href=\"http://example.com/tillie\" id=\"link3\">Tillie</a>]"
      ]
     },
     "execution_count": 87,
     "metadata": {},
     "output_type": "execute_result"
    }
   ],
   "source": [
    "soup(\"a\") #without using fina_all() I can fetch using soup object"
   ]
  },
  {
   "cell_type": "code",
   "execution_count": 88,
   "id": "54af6fda",
   "metadata": {},
   "outputs": [
    {
     "data": {
      "text/plain": [
       "[\"The Dormouse's story\"]"
      ]
     },
     "execution_count": 88,
     "metadata": {},
     "output_type": "execute_result"
    }
   ],
   "source": [
    "#applying same logic\n",
    "soup.title.find_all(string=True)"
   ]
  },
  {
   "cell_type": "code",
   "execution_count": 89,
   "id": "705dd910",
   "metadata": {},
   "outputs": [
    {
     "data": {
      "text/plain": [
       "[\"The Dormouse's story\"]"
      ]
     },
     "execution_count": 89,
     "metadata": {},
     "output_type": "execute_result"
    }
   ],
   "source": [
    "soup.title(string=True)"
   ]
  },
  {
   "cell_type": "code",
   "execution_count": 90,
   "id": "bea5a490",
   "metadata": {},
   "outputs": [
    {
     "data": {
      "text/plain": [
       "[<title>The Dormouse's story</title>]"
      ]
     },
     "execution_count": 90,
     "metadata": {},
     "output_type": "execute_result"
    }
   ],
   "source": [
    "soup.find_all('title', limit=1)"
   ]
  },
  {
   "cell_type": "code",
   "execution_count": 91,
   "id": "35fff140",
   "metadata": {},
   "outputs": [
    {
     "data": {
      "text/plain": [
       "<title>The Dormouse's story</title>"
      ]
     },
     "execution_count": 91,
     "metadata": {},
     "output_type": "execute_result"
    }
   ],
   "source": [
    "soup.find('title')\n",
    "#find return single result"
   ]
  },
  {
   "cell_type": "code",
   "execution_count": 92,
   "id": "fe0c5848",
   "metadata": {},
   "outputs": [
    {
     "name": "stdout",
     "output_type": "stream",
     "text": [
      "None\n"
     ]
    }
   ],
   "source": [
    "print(soup.find(\"puppies\")) #there is no tag called puppies"
   ]
  },
  {
   "cell_type": "code",
   "execution_count": 93,
   "id": "e4d66586",
   "metadata": {},
   "outputs": [
    {
     "data": {
      "text/plain": [
       "<title>The Dormouse's story</title>"
      ]
     },
     "execution_count": 93,
     "metadata": {},
     "output_type": "execute_result"
    }
   ],
   "source": [
    "soup.head.title #this fetches title tag"
   ]
  },
  {
   "cell_type": "code",
   "execution_count": 94,
   "id": "5f207b15",
   "metadata": {},
   "outputs": [
    {
     "data": {
      "text/plain": [
       "<title>The Dormouse's story</title>"
      ]
     },
     "execution_count": 94,
     "metadata": {},
     "output_type": "execute_result"
    }
   ],
   "source": [
    "# I can also fetch title tag using 2 function together. find(head) and find(title)\n",
    "soup.find(\"head\").find(\"title\")"
   ]
  },
  {
   "cell_type": "markdown",
   "id": "d7858544",
   "metadata": {},
   "source": [
    "### find_parents() and find_parent()\n",
    "- syntax:  find_parents(name, attrs, string, limit, **kwargs) \n",
    "- these works way up"
   ]
  },
  {
   "cell_type": "code",
   "execution_count": 95,
   "id": "510b9e49",
   "metadata": {},
   "outputs": [
    {
     "data": {
      "text/plain": [
       "'Lacie'"
      ]
     },
     "execution_count": 95,
     "metadata": {},
     "output_type": "execute_result"
    }
   ],
   "source": [
    "a_string = soup.find(string=\"Lacie\")\n",
    "a_string #find lacie and assign it to a_string"
   ]
  },
  {
   "cell_type": "code",
   "execution_count": 99,
   "id": "ccfe4162",
   "metadata": {},
   "outputs": [
    {
     "data": {
      "text/plain": [
       "bs4.element.NavigableString"
      ]
     },
     "execution_count": 99,
     "metadata": {},
     "output_type": "execute_result"
    }
   ],
   "source": [
    "type(a_string)"
   ]
  },
  {
   "cell_type": "code",
   "execution_count": 96,
   "id": "513c007a",
   "metadata": {},
   "outputs": [
    {
     "data": {
      "text/plain": [
       "[<a class=\"sister\" href=\"http://example.com/lacie\" id=\"link2\">Lacie</a>]"
      ]
     },
     "execution_count": 96,
     "metadata": {},
     "output_type": "execute_result"
    }
   ],
   "source": [
    "a_string.find_parents(\"a\") #find parents of Lacie. as Lacie is string, it's immediate parent is \n",
    "#<a> tag. it returns set. I can iterate over .parents"
   ]
  },
  {
   "cell_type": "code",
   "execution_count": 101,
   "id": "ff172e0d",
   "metadata": {},
   "outputs": [
    {
     "data": {
      "text/plain": [
       "bs4.element.ResultSet"
      ]
     },
     "execution_count": 101,
     "metadata": {},
     "output_type": "execute_result"
    }
   ],
   "source": [
    "type(a_string.find_parents(\"a\"))"
   ]
  },
  {
   "cell_type": "code",
   "execution_count": 100,
   "id": "91aaccb7",
   "metadata": {},
   "outputs": [
    {
     "data": {
      "text/plain": [
       "<a class=\"sister\" href=\"http://example.com/lacie\" id=\"link2\">Lacie</a>"
      ]
     },
     "execution_count": 100,
     "metadata": {},
     "output_type": "execute_result"
    }
   ],
   "source": [
    "a_string.find_parent(\"a\")"
   ]
  },
  {
   "cell_type": "code",
   "execution_count": 102,
   "id": "c5e96dc2",
   "metadata": {},
   "outputs": [
    {
     "data": {
      "text/plain": [
       "bs4.element.Tag"
      ]
     },
     "execution_count": 102,
     "metadata": {},
     "output_type": "execute_result"
    }
   ],
   "source": [
    "type(a_string.find_parent(\"a\")) #this return single parent tag"
   ]
  },
  {
   "cell_type": "code",
   "execution_count": 97,
   "id": "a2b9174f",
   "metadata": {},
   "outputs": [
    {
     "data": {
      "text/plain": [
       "<p class=\"story\">Once upon a time there were three little sisters; and their names were\n",
       "<a class=\"sister\" href=\"http://example.com/elsie\" id=\"link1\">Elsie</a>,\n",
       "<a class=\"sister\" href=\"http://example.com/lacie\" id=\"link2\">Lacie</a> and\n",
       "<a class=\"sister\" href=\"http://example.com/tillie\" id=\"link3\">Tillie</a>;\n",
       "and they lived at the bottom of a well.</p>"
      ]
     },
     "execution_count": 97,
     "metadata": {},
     "output_type": "execute_result"
    }
   ],
   "source": [
    "a_string.find_parent(\"p\")"
   ]
  },
  {
   "cell_type": "code",
   "execution_count": 98,
   "id": "f968bbbf",
   "metadata": {},
   "outputs": [
    {
     "data": {
      "text/plain": [
       "[]"
      ]
     },
     "execution_count": 98,
     "metadata": {},
     "output_type": "execute_result"
    }
   ],
   "source": [
    "a_string.find_parents(\"p\", class_=\"title\") #passing attribute along with tag "
   ]
  },
  {
   "cell_type": "code",
   "execution_count": 104,
   "id": "eaea7edc",
   "metadata": {},
   "outputs": [
    {
     "name": "stdout",
     "output_type": "stream",
     "text": [
      "None\n"
     ]
    }
   ],
   "source": [
    "print(a_string.find_parent(\"p\", class_=\"title\"))"
   ]
  },
  {
   "cell_type": "markdown",
   "id": "60e55f40",
   "metadata": {},
   "source": [
    "### find_next_siblings() and find_next_sibling()"
   ]
  },
  {
   "cell_type": "code",
   "execution_count": 105,
   "id": "e89f4bd6",
   "metadata": {},
   "outputs": [
    {
     "data": {
      "text/plain": [
       "<a class=\"sister\" href=\"http://example.com/elsie\" id=\"link1\">Elsie</a>"
      ]
     },
     "execution_count": 105,
     "metadata": {},
     "output_type": "execute_result"
    }
   ],
   "source": [
    "first_link = soup.a\n",
    "first_link"
   ]
  },
  {
   "cell_type": "code",
   "execution_count": 106,
   "id": "1bfc4686",
   "metadata": {},
   "outputs": [
    {
     "data": {
      "text/plain": [
       "[<a class=\"sister\" href=\"http://example.com/lacie\" id=\"link2\">Lacie</a>,\n",
       " <a class=\"sister\" href=\"http://example.com/tillie\" id=\"link3\">Tillie</a>]"
      ]
     },
     "execution_count": 106,
     "metadata": {},
     "output_type": "execute_result"
    }
   ],
   "source": [
    "first_link.find_next_siblings(\"a\")"
   ]
  },
  {
   "cell_type": "code",
   "execution_count": 107,
   "id": "5d2e9b6a",
   "metadata": {},
   "outputs": [
    {
     "data": {
      "text/plain": [
       "<a class=\"sister\" href=\"http://example.com/lacie\" id=\"link2\">Lacie</a>"
      ]
     },
     "execution_count": 107,
     "metadata": {},
     "output_type": "execute_result"
    }
   ],
   "source": [
    "first_link.find_next_sibling(\"a\")"
   ]
  },
  {
   "cell_type": "code",
   "execution_count": 108,
   "id": "6904f599",
   "metadata": {},
   "outputs": [
    {
     "data": {
      "text/plain": [
       "<p class=\"story\">...</p>"
      ]
     },
     "execution_count": 108,
     "metadata": {},
     "output_type": "execute_result"
    }
   ],
   "source": [
    "first_story_paragraph = soup.find(\"p\", \"story\")\n",
    "first_story_paragraph.find_next_sibling(\"p\")"
   ]
  },
  {
   "cell_type": "markdown",
   "id": "16b028c3",
   "metadata": {},
   "source": [
    "### find_previous_siblings() and find_previous_sibling()"
   ]
  },
  {
   "cell_type": "code",
   "execution_count": 109,
   "id": "ed427165",
   "metadata": {},
   "outputs": [
    {
     "data": {
      "text/plain": [
       "<a class=\"sister\" href=\"http://example.com/tillie\" id=\"link3\">Tillie</a>"
      ]
     },
     "execution_count": 109,
     "metadata": {},
     "output_type": "execute_result"
    }
   ],
   "source": [
    "last_link = soup.find(\"a\", id=\"link3\")\n",
    "last_link"
   ]
  },
  {
   "cell_type": "code",
   "execution_count": 110,
   "id": "44fdfa4a",
   "metadata": {},
   "outputs": [
    {
     "data": {
      "text/plain": [
       "<a class=\"sister\" href=\"http://example.com/lacie\" id=\"link2\">Lacie</a>"
      ]
     },
     "execution_count": 110,
     "metadata": {},
     "output_type": "execute_result"
    }
   ],
   "source": [
    "\n",
    "last_link.find_previous_sibling(\"a\")"
   ]
  },
  {
   "cell_type": "code",
   "execution_count": 111,
   "id": "88fddb4d",
   "metadata": {},
   "outputs": [
    {
     "data": {
      "text/plain": [
       "[<a class=\"sister\" href=\"http://example.com/lacie\" id=\"link2\">Lacie</a>,\n",
       " <a class=\"sister\" href=\"http://example.com/elsie\" id=\"link1\">Elsie</a>]"
      ]
     },
     "execution_count": 111,
     "metadata": {},
     "output_type": "execute_result"
    }
   ],
   "source": [
    "\n",
    "last_link.find_previous_siblings(\"a\")"
   ]
  },
  {
   "cell_type": "code",
   "execution_count": 112,
   "id": "26d41b31",
   "metadata": {},
   "outputs": [
    {
     "data": {
      "text/plain": [
       "<p class=\"title\"><b>The Dormouse's story</b></p>"
      ]
     },
     "execution_count": 112,
     "metadata": {},
     "output_type": "execute_result"
    }
   ],
   "source": [
    "\n",
    "first_story_paragraph = soup.find(\"p\", \"story\")\n",
    "first_story_paragraph.find_previous_sibling(\"p\")"
   ]
  },
  {
   "cell_type": "markdown",
   "id": "fd5ce667",
   "metadata": {},
   "source": [
    "### find_all_next() and find_next()"
   ]
  },
  {
   "cell_type": "code",
   "execution_count": 113,
   "id": "96fc0568",
   "metadata": {},
   "outputs": [
    {
     "data": {
      "text/plain": [
       "<a class=\"sister\" href=\"http://example.com/elsie\" id=\"link1\">Elsie</a>"
      ]
     },
     "execution_count": 113,
     "metadata": {},
     "output_type": "execute_result"
    }
   ],
   "source": [
    "first_link = soup.a\n",
    "first_link"
   ]
  },
  {
   "cell_type": "code",
   "execution_count": 114,
   "id": "b081d264",
   "metadata": {},
   "outputs": [
    {
     "data": {
      "text/plain": [
       "['Elsie',\n",
       " ',\\n',\n",
       " 'Lacie',\n",
       " ' and\\n',\n",
       " 'Tillie',\n",
       " ';\\nand they lived at the bottom of a well.',\n",
       " '\\n',\n",
       " '...',\n",
       " '\\n']"
      ]
     },
     "execution_count": 114,
     "metadata": {},
     "output_type": "execute_result"
    }
   ],
   "source": [
    "first_link.find_all_next(string=True)"
   ]
  },
  {
   "cell_type": "code",
   "execution_count": 116,
   "id": "e3b3f020",
   "metadata": {},
   "outputs": [
    {
     "data": {
      "text/plain": [
       "<p class=\"story\">...</p>"
      ]
     },
     "execution_count": 116,
     "metadata": {},
     "output_type": "execute_result"
    }
   ],
   "source": [
    "first_link.find_next(\"p\")"
   ]
  },
  {
   "cell_type": "markdown",
   "id": "8eb24786",
   "metadata": {},
   "source": [
    "### find_all_previous() and find_previous()"
   ]
  },
  {
   "cell_type": "code",
   "execution_count": 117,
   "id": "76e205cd",
   "metadata": {},
   "outputs": [
    {
     "data": {
      "text/plain": [
       "<a class=\"sister\" href=\"http://example.com/elsie\" id=\"link1\">Elsie</a>"
      ]
     },
     "execution_count": 117,
     "metadata": {},
     "output_type": "execute_result"
    }
   ],
   "source": [
    "first_link = soup.a\n",
    "first_link"
   ]
  },
  {
   "cell_type": "code",
   "execution_count": 118,
   "id": "94552dee",
   "metadata": {},
   "outputs": [
    {
     "data": {
      "text/plain": [
       "[<p class=\"story\">Once upon a time there were three little sisters; and their names were\n",
       " <a class=\"sister\" href=\"http://example.com/elsie\" id=\"link1\">Elsie</a>,\n",
       " <a class=\"sister\" href=\"http://example.com/lacie\" id=\"link2\">Lacie</a> and\n",
       " <a class=\"sister\" href=\"http://example.com/tillie\" id=\"link3\">Tillie</a>;\n",
       " and they lived at the bottom of a well.</p>,\n",
       " <p class=\"title\"><b>The Dormouse's story</b></p>]"
      ]
     },
     "execution_count": 118,
     "metadata": {},
     "output_type": "execute_result"
    }
   ],
   "source": [
    "first_link.find_all_previous(\"p\")"
   ]
  },
  {
   "cell_type": "code",
   "execution_count": 119,
   "id": "7fbd137d",
   "metadata": {},
   "outputs": [
    {
     "data": {
      "text/plain": [
       "<title>The Dormouse's story</title>"
      ]
     },
     "execution_count": 119,
     "metadata": {},
     "output_type": "execute_result"
    }
   ],
   "source": [
    "\n",
    "first_link.find_previous(\"title\")"
   ]
  },
  {
   "cell_type": "markdown",
   "id": "4fa727a7",
   "metadata": {},
   "source": [
    "## CSS selectors"
   ]
  },
  {
   "cell_type": "code",
   "execution_count": 120,
   "id": "9c2eeed4",
   "metadata": {},
   "outputs": [
    {
     "data": {
      "text/plain": [
       "[<title>The Dormouse's story</title>]"
      ]
     },
     "execution_count": 120,
     "metadata": {},
     "output_type": "execute_result"
    }
   ],
   "source": [
    "soup.select(\"title\")\n",
    "#fetching using name of tag "
   ]
  },
  {
   "cell_type": "code",
   "execution_count": 153,
   "id": "ac80d39d",
   "metadata": {},
   "outputs": [
    {
     "data": {
      "text/plain": [
       "[]"
      ]
     },
     "execution_count": 153,
     "metadata": {},
     "output_type": "execute_result"
    }
   ],
   "source": [
    "soup.select(\"html > head\")"
   ]
  },
  {
   "cell_type": "code",
   "execution_count": 123,
   "id": "b192ccf7",
   "metadata": {},
   "outputs": [
    {
     "data": {
      "text/plain": [
       "[<p class=\"story\">...</p>]"
      ]
     },
     "execution_count": 123,
     "metadata": {},
     "output_type": "execute_result"
    }
   ],
   "source": [
    "soup.select(\"p:nth-of-type(3)\")"
   ]
  },
  {
   "cell_type": "code",
   "execution_count": 122,
   "id": "05707c1d",
   "metadata": {},
   "outputs": [
    {
     "data": {
      "text/plain": [
       "[<a class=\"sister\" href=\"http://example.com/elsie\" id=\"link1\">Elsie</a>,\n",
       " <a class=\"sister\" href=\"http://example.com/lacie\" id=\"link2\">Lacie</a>,\n",
       " <a class=\"sister\" href=\"http://example.com/tillie\" id=\"link3\">Tillie</a>]"
      ]
     },
     "execution_count": 122,
     "metadata": {},
     "output_type": "execute_result"
    }
   ],
   "source": [
    "soup.select(\"body a\") # find tags beneath other tags"
   ]
  },
  {
   "cell_type": "code",
   "execution_count": 124,
   "id": "6081f601",
   "metadata": {},
   "outputs": [
    {
     "data": {
      "text/plain": [
       "[<title>The Dormouse's story</title>]"
      ]
     },
     "execution_count": 124,
     "metadata": {},
     "output_type": "execute_result"
    }
   ],
   "source": [
    "soup.select(\"html head title\")"
   ]
  },
  {
   "cell_type": "code",
   "execution_count": 125,
   "id": "00cab2a2",
   "metadata": {},
   "outputs": [
    {
     "data": {
      "text/plain": [
       "[<title>The Dormouse's story</title>]"
      ]
     },
     "execution_count": 125,
     "metadata": {},
     "output_type": "execute_result"
    }
   ],
   "source": [
    "soup.select(\"head > title\") "
   ]
  },
  {
   "cell_type": "code",
   "execution_count": 126,
   "id": "de98baa7",
   "metadata": {},
   "outputs": [
    {
     "data": {
      "text/plain": [
       "[<a class=\"sister\" href=\"http://example.com/elsie\" id=\"link1\">Elsie</a>,\n",
       " <a class=\"sister\" href=\"http://example.com/lacie\" id=\"link2\">Lacie</a>,\n",
       " <a class=\"sister\" href=\"http://example.com/tillie\" id=\"link3\">Tillie</a>]"
      ]
     },
     "execution_count": 126,
     "metadata": {},
     "output_type": "execute_result"
    }
   ],
   "source": [
    "soup.select(\"p > a\")"
   ]
  },
  {
   "cell_type": "code",
   "execution_count": 127,
   "id": "fb4dcf15",
   "metadata": {},
   "outputs": [
    {
     "data": {
      "text/plain": [
       "[<a class=\"sister\" href=\"http://example.com/lacie\" id=\"link2\">Lacie</a>]"
      ]
     },
     "execution_count": 127,
     "metadata": {},
     "output_type": "execute_result"
    }
   ],
   "source": [
    "\n",
    "soup.select(\"p > a:nth-of-type(2)\")"
   ]
  },
  {
   "cell_type": "code",
   "execution_count": 128,
   "id": "2aee0fdd",
   "metadata": {},
   "outputs": [
    {
     "data": {
      "text/plain": [
       "[<a class=\"sister\" href=\"http://example.com/elsie\" id=\"link1\">Elsie</a>]"
      ]
     },
     "execution_count": 128,
     "metadata": {},
     "output_type": "execute_result"
    }
   ],
   "source": [
    "soup.select(\"p > #link1\") #in p tag where link1"
   ]
  },
  {
   "cell_type": "code",
   "execution_count": 129,
   "id": "33d22815",
   "metadata": {},
   "outputs": [
    {
     "data": {
      "text/plain": [
       "[]"
      ]
     },
     "execution_count": 129,
     "metadata": {},
     "output_type": "execute_result"
    }
   ],
   "source": [
    "soup.select(\"body > a\")\n"
   ]
  },
  {
   "cell_type": "code",
   "execution_count": 130,
   "id": "26827624",
   "metadata": {},
   "outputs": [
    {
     "data": {
      "text/plain": [
       "[<a class=\"sister\" href=\"http://example.com/lacie\" id=\"link2\">Lacie</a>,\n",
       " <a class=\"sister\" href=\"http://example.com/tillie\" id=\"link3\">Tillie</a>]"
      ]
     },
     "execution_count": 130,
     "metadata": {},
     "output_type": "execute_result"
    }
   ],
   "source": [
    "soup.select(\"#link1 ~ .sister\") # find siblings of tag. except link1"
   ]
  },
  {
   "cell_type": "code",
   "execution_count": 131,
   "id": "897ea0e4",
   "metadata": {},
   "outputs": [
    {
     "data": {
      "text/plain": [
       "[<a class=\"sister\" href=\"http://example.com/lacie\" id=\"link2\">Lacie</a>]"
      ]
     },
     "execution_count": 131,
     "metadata": {},
     "output_type": "execute_result"
    }
   ],
   "source": [
    "soup.select(\"#link1 + .sister\") # find link1 where class is sister"
   ]
  },
  {
   "cell_type": "code",
   "execution_count": 132,
   "id": "dedc1fb9",
   "metadata": {},
   "outputs": [
    {
     "data": {
      "text/plain": [
       "[<a class=\"sister\" href=\"http://example.com/elsie\" id=\"link1\">Elsie</a>,\n",
       " <a class=\"sister\" href=\"http://example.com/lacie\" id=\"link2\">Lacie</a>,\n",
       " <a class=\"sister\" href=\"http://example.com/tillie\" id=\"link3\">Tillie</a>]"
      ]
     },
     "execution_count": 132,
     "metadata": {},
     "output_type": "execute_result"
    }
   ],
   "source": [
    "soup.select(\".sister\") # css class"
   ]
  },
  {
   "cell_type": "code",
   "execution_count": 133,
   "id": "73e26284",
   "metadata": {},
   "outputs": [
    {
     "data": {
      "text/plain": [
       "[<a class=\"sister\" href=\"http://example.com/elsie\" id=\"link1\">Elsie</a>,\n",
       " <a class=\"sister\" href=\"http://example.com/lacie\" id=\"link2\">Lacie</a>,\n",
       " <a class=\"sister\" href=\"http://example.com/tillie\" id=\"link3\">Tillie</a>]"
      ]
     },
     "execution_count": 133,
     "metadata": {},
     "output_type": "execute_result"
    }
   ],
   "source": [
    "\n",
    "soup.select(\"[class~=sister]\") "
   ]
  },
  {
   "cell_type": "code",
   "execution_count": 134,
   "id": "031709fc",
   "metadata": {},
   "outputs": [
    {
     "data": {
      "text/plain": [
       "[<a class=\"sister\" href=\"http://example.com/elsie\" id=\"link1\">Elsie</a>]"
      ]
     },
     "execution_count": 134,
     "metadata": {},
     "output_type": "execute_result"
    }
   ],
   "source": [
    "soup.select(\"#link1\") #find tags by id"
   ]
  },
  {
   "cell_type": "code",
   "execution_count": 135,
   "id": "381f2737",
   "metadata": {},
   "outputs": [
    {
     "data": {
      "text/plain": [
       "[<a class=\"sister\" href=\"http://example.com/lacie\" id=\"link2\">Lacie</a>]"
      ]
     },
     "execution_count": 135,
     "metadata": {},
     "output_type": "execute_result"
    }
   ],
   "source": [
    "soup.select(\"a#link2\")#find tags by id"
   ]
  },
  {
   "cell_type": "code",
   "execution_count": 136,
   "id": "095ad235",
   "metadata": {},
   "outputs": [
    {
     "data": {
      "text/plain": [
       "[<a class=\"sister\" href=\"http://example.com/elsie\" id=\"link1\">Elsie</a>,\n",
       " <a class=\"sister\" href=\"http://example.com/lacie\" id=\"link2\">Lacie</a>]"
      ]
     },
     "execution_count": 136,
     "metadata": {},
     "output_type": "execute_result"
    }
   ],
   "source": [
    "soup.select(\"#link1,#link2\") #selectors  from list of selectors"
   ]
  },
  {
   "cell_type": "code",
   "execution_count": 137,
   "id": "68b26bd4",
   "metadata": {},
   "outputs": [
    {
     "data": {
      "text/plain": [
       "[<a class=\"sister\" href=\"http://example.com/elsie\" id=\"link1\">Elsie</a>,\n",
       " <a class=\"sister\" href=\"http://example.com/lacie\" id=\"link2\">Lacie</a>,\n",
       " <a class=\"sister\" href=\"http://example.com/tillie\" id=\"link3\">Tillie</a>]"
      ]
     },
     "execution_count": 137,
     "metadata": {},
     "output_type": "execute_result"
    }
   ],
   "source": [
    "soup.select('a[href]')\n",
    "#fetch a tag which has href"
   ]
  },
  {
   "cell_type": "code",
   "execution_count": 138,
   "id": "f1f744d3",
   "metadata": {},
   "outputs": [
    {
     "data": {
      "text/plain": [
       "[<a class=\"sister\" href=\"http://example.com/elsie\" id=\"link1\">Elsie</a>]"
      ]
     },
     "execution_count": 138,
     "metadata": {},
     "output_type": "execute_result"
    }
   ],
   "source": [
    "# find tag using attribute value\n",
    "soup.select('a[href=\"http://example.com/elsie\"]')"
   ]
  },
  {
   "cell_type": "code",
   "execution_count": 139,
   "id": "183a8a83",
   "metadata": {},
   "outputs": [
    {
     "data": {
      "text/plain": [
       "[<a class=\"sister\" href=\"http://example.com/elsie\" id=\"link1\">Elsie</a>,\n",
       " <a class=\"sister\" href=\"http://example.com/lacie\" id=\"link2\">Lacie</a>,\n",
       " <a class=\"sister\" href=\"http://example.com/tillie\" id=\"link3\">Tillie</a>]"
      ]
     },
     "execution_count": 139,
     "metadata": {},
     "output_type": "execute_result"
    }
   ],
   "source": [
    "soup.select('a[href^=\"http://example.com/\"]')"
   ]
  },
  {
   "cell_type": "code",
   "execution_count": 140,
   "id": "71655857",
   "metadata": {},
   "outputs": [
    {
     "data": {
      "text/plain": [
       "[<a class=\"sister\" href=\"http://example.com/tillie\" id=\"link3\">Tillie</a>]"
      ]
     },
     "execution_count": 140,
     "metadata": {},
     "output_type": "execute_result"
    }
   ],
   "source": [
    "soup.select('a[href$=\"tillie\"]')"
   ]
  },
  {
   "cell_type": "code",
   "execution_count": 141,
   "id": "313542d1",
   "metadata": {},
   "outputs": [
    {
     "data": {
      "text/plain": [
       "[<a class=\"sister\" href=\"http://example.com/elsie\" id=\"link1\">Elsie</a>]"
      ]
     },
     "execution_count": 141,
     "metadata": {},
     "output_type": "execute_result"
    }
   ],
   "source": [
    "soup.select('a[href*=\".com/el\"]')"
   ]
  },
  {
   "cell_type": "code",
   "execution_count": 142,
   "id": "fdfe6349",
   "metadata": {},
   "outputs": [
    {
     "data": {
      "text/plain": [
       "<a class=\"sister\" href=\"http://example.com/elsie\" id=\"link1\">Elsie</a>"
      ]
     },
     "execution_count": 142,
     "metadata": {},
     "output_type": "execute_result"
    }
   ],
   "source": [
    "#select_one() to fetch first match\n",
    "soup.select_one(\".sister\")"
   ]
  },
  {
   "cell_type": "code",
   "execution_count": 143,
   "id": "8d379967",
   "metadata": {},
   "outputs": [],
   "source": [
    "\n",
    "from bs4 import BeautifulSoup\n",
    "xml = \"\"\"<tag xmlns:ns1=\"http://namespace1/\" xmlns:ns2=\"http://namespace2/\">\n",
    " <ns1:child>I'm in namespace 1</ns1:child>\n",
    " <ns2:child>I'm in namespace 2</ns2:child>\n",
    "</tag> \"\"\"\n",
    "soup = BeautifulSoup(xml, \"xml\")"
   ]
  },
  {
   "cell_type": "code",
   "execution_count": 144,
   "id": "08afe16c",
   "metadata": {},
   "outputs": [
    {
     "data": {
      "text/plain": [
       "[<ns1:child>I'm in namespace 1</ns1:child>,\n",
       " <ns2:child>I'm in namespace 2</ns2:child>]"
      ]
     },
     "execution_count": 144,
     "metadata": {},
     "output_type": "execute_result"
    }
   ],
   "source": [
    "soup.select(\"child\")"
   ]
  },
  {
   "cell_type": "code",
   "execution_count": 145,
   "id": "95ca780a",
   "metadata": {},
   "outputs": [
    {
     "data": {
      "text/plain": [
       "[<ns1:child>I'm in namespace 1</ns1:child>]"
      ]
     },
     "execution_count": 145,
     "metadata": {},
     "output_type": "execute_result"
    }
   ],
   "source": [
    "soup.select(\"ns1|child\")"
   ]
  },
  {
   "cell_type": "code",
   "execution_count": 146,
   "id": "35aaa7b0",
   "metadata": {},
   "outputs": [
    {
     "data": {
      "text/plain": [
       "[<ns2:child>I'm in namespace 2</ns2:child>]"
      ]
     },
     "execution_count": 146,
     "metadata": {},
     "output_type": "execute_result"
    }
   ],
   "source": [
    "namespaces = dict(first=\"http://namespace1/\", second=\"http://namespace2/\")\n",
    "soup.select(\"second|child\", namespaces=namespaces)"
   ]
  },
  {
   "cell_type": "code",
   "execution_count": null,
   "id": "99be1fb5",
   "metadata": {},
   "outputs": [],
   "source": []
  }
 ],
 "metadata": {
  "kernelspec": {
   "display_name": "Python 3 (ipykernel)",
   "language": "python",
   "name": "python3"
  },
  "language_info": {
   "codemirror_mode": {
    "name": "ipython",
    "version": 3
   },
   "file_extension": ".py",
   "mimetype": "text/x-python",
   "name": "python",
   "nbconvert_exporter": "python",
   "pygments_lexer": "ipython3",
   "version": "3.9.12"
  }
 },
 "nbformat": 4,
 "nbformat_minor": 5
}
