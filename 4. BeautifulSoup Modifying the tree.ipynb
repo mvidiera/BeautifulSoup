{
 "cells": [
  {
   "cell_type": "code",
   "execution_count": 2,
   "id": "b7ce902e",
   "metadata": {},
   "outputs": [],
   "source": [
    "from bs4 import BeautifulSoup"
   ]
  },
  {
   "cell_type": "code",
   "execution_count": 4,
   "id": "78f2887c",
   "metadata": {},
   "outputs": [
    {
     "data": {
      "text/plain": [
       "<blockquote class=\"verybold\" id=\"1\">Extremely bold</blockquote>"
      ]
     },
     "execution_count": 4,
     "metadata": {},
     "output_type": "execute_result"
    }
   ],
   "source": [
    "soup = BeautifulSoup('<b class=\"boldest\">Extremely bold</b>', 'html.parser')\n",
    "tag = soup.b\n",
    "\n",
    "tag.name = \"blockquote\"\n",
    "tag['class'] = 'verybold'\n",
    "tag['id'] = 1\n",
    "tag\n",
    "\n"
   ]
  },
  {
   "cell_type": "code",
   "execution_count": 5,
   "id": "cb60b96c",
   "metadata": {},
   "outputs": [
    {
     "data": {
      "text/plain": [
       "<blockquote>Extremely bold</blockquote>"
      ]
     },
     "execution_count": 5,
     "metadata": {},
     "output_type": "execute_result"
    }
   ],
   "source": [
    "del tag['class']\n",
    "del tag['id']\n",
    "tag"
   ]
  },
  {
   "cell_type": "markdown",
   "id": "5ceb2548",
   "metadata": {},
   "source": [
    "#### .string\n",
    "- Contents of tag can be replaced using .string"
   ]
  },
  {
   "cell_type": "code",
   "execution_count": 13,
   "id": "0888b7b1",
   "metadata": {},
   "outputs": [],
   "source": [
    "markup = '<a href=\"http://example.com/\">Melissa Vidiera<i>Whisky Vidiera</i></a>'\n",
    "soup = BeautifulSoup(markup, 'html.parser')"
   ]
  },
  {
   "cell_type": "code",
   "execution_count": 14,
   "id": "8a1d92f5",
   "metadata": {},
   "outputs": [
    {
     "data": {
      "text/plain": [
       "<a href=\"http://example.com/\">Melissa Vidiera<i>Whisky Vidiera</i></a>"
      ]
     },
     "execution_count": 14,
     "metadata": {},
     "output_type": "execute_result"
    }
   ],
   "source": [
    "soup"
   ]
  },
  {
   "cell_type": "code",
   "execution_count": 15,
   "id": "ffa6e95a",
   "metadata": {},
   "outputs": [
    {
     "data": {
      "text/plain": [
       "<a href=\"http://example.com/\">Melissa Vidiera<i>Whisky Vidiera</i></a>"
      ]
     },
     "execution_count": 15,
     "metadata": {},
     "output_type": "execute_result"
    }
   ],
   "source": [
    "tag = soup.a\n",
    "tag"
   ]
  },
  {
   "cell_type": "code",
   "execution_count": 18,
   "id": "5b969d10",
   "metadata": {},
   "outputs": [
    {
     "data": {
      "text/plain": [
       "<a href=\"http://example.com/\">Picu, Whisky and Coco Vidiera</a>"
      ]
     },
     "execution_count": 18,
     "metadata": {},
     "output_type": "execute_result"
    }
   ],
   "source": [
    "tag.string = \"Picu, Whisky and Coco Vidiera\"\n",
    "tag\n",
    "#this tag inturn had another tag with content \"Whisky Vidiera\", using .string will \n",
    "#delete other tag contents "
   ]
  },
  {
   "cell_type": "markdown",
   "id": "78224412",
   "metadata": {},
   "source": [
    "#### .append()\n",
    "- to add infomation to the existing info."
   ]
  },
  {
   "cell_type": "code",
   "execution_count": 25,
   "id": "a11c8d6d",
   "metadata": {},
   "outputs": [
    {
     "data": {
      "text/plain": [
       "<a>Melissa</a>"
      ]
     },
     "execution_count": 25,
     "metadata": {},
     "output_type": "execute_result"
    }
   ],
   "source": [
    "soup = BeautifulSoup(\"<a>Melissa</a>\", 'html.parser')\n",
    "soup"
   ]
  },
  {
   "cell_type": "code",
   "execution_count": 26,
   "id": "ac656fed",
   "metadata": {},
   "outputs": [],
   "source": [
    "soup.a.append(\" Vidiera\")"
   ]
  },
  {
   "cell_type": "code",
   "execution_count": 27,
   "id": "85706a39",
   "metadata": {},
   "outputs": [
    {
     "data": {
      "text/plain": [
       "<a>Melissa Vidiera</a>"
      ]
     },
     "execution_count": 27,
     "metadata": {},
     "output_type": "execute_result"
    }
   ],
   "source": [
    "soup"
   ]
  },
  {
   "cell_type": "code",
   "execution_count": 28,
   "id": "eb1c0a25",
   "metadata": {},
   "outputs": [],
   "source": [
    "soup.a.append(\"----------\")"
   ]
  },
  {
   "cell_type": "code",
   "execution_count": 29,
   "id": "58327311",
   "metadata": {},
   "outputs": [
    {
     "data": {
      "text/plain": [
       "<a>Melissa Vidiera----------</a>"
      ]
     },
     "execution_count": 29,
     "metadata": {},
     "output_type": "execute_result"
    }
   ],
   "source": [
    "soup"
   ]
  },
  {
   "cell_type": "code",
   "execution_count": 31,
   "id": "2280563f",
   "metadata": {},
   "outputs": [
    {
     "data": {
      "text/plain": [
       "['Melissa', ' Vidiera', '----------']"
      ]
     },
     "execution_count": 31,
     "metadata": {},
     "output_type": "execute_result"
    }
   ],
   "source": [
    "soup.a.contents"
   ]
  },
  {
   "cell_type": "markdown",
   "id": "b9357d1f",
   "metadata": {},
   "source": [
    "#### .extend()\n",
    "- Using extend I can pass a list of words(anything including space or symbols), and will be added into existing content"
   ]
  },
  {
   "cell_type": "code",
   "execution_count": 35,
   "id": "1cae83ba",
   "metadata": {},
   "outputs": [
    {
     "data": {
      "text/plain": [
       "<a>Whisky</a>"
      ]
     },
     "execution_count": 35,
     "metadata": {},
     "output_type": "execute_result"
    }
   ],
   "source": [
    "soup = BeautifulSoup(\"<a>Whisky</a>\", 'html.parser')\n",
    "soup"
   ]
  },
  {
   "cell_type": "code",
   "execution_count": 36,
   "id": "840b54ef",
   "metadata": {},
   "outputs": [],
   "source": [
    "soup.a.extend([\"'s\", \" \", \"toy\"])"
   ]
  },
  {
   "cell_type": "code",
   "execution_count": 37,
   "id": "ccd5e65b",
   "metadata": {},
   "outputs": [
    {
     "data": {
      "text/plain": [
       "<a>Whisky's toy</a>"
      ]
     },
     "execution_count": 37,
     "metadata": {},
     "output_type": "execute_result"
    }
   ],
   "source": [
    "soup"
   ]
  },
  {
   "cell_type": "code",
   "execution_count": 38,
   "id": "dfeadd70",
   "metadata": {},
   "outputs": [
    {
     "data": {
      "text/plain": [
       "['Whisky', \"'s\", ' ', 'toy']"
      ]
     },
     "execution_count": 38,
     "metadata": {},
     "output_type": "execute_result"
    }
   ],
   "source": [
    "soup.a.contents"
   ]
  },
  {
   "cell_type": "markdown",
   "id": "b6b91aed",
   "metadata": {},
   "source": [
    "#### NavigableString() and .new_tag()"
   ]
  },
  {
   "cell_type": "code",
   "execution_count": 40,
   "id": "c67594c7",
   "metadata": {},
   "outputs": [],
   "source": [
    "from bs4 import NavigableString"
   ]
  },
  {
   "cell_type": "code",
   "execution_count": 41,
   "id": "6d0c7f11",
   "metadata": {},
   "outputs": [
    {
     "data": {
      "text/plain": [
       "<b>Hello there</b>"
      ]
     },
     "execution_count": 41,
     "metadata": {},
     "output_type": "execute_result"
    }
   ],
   "source": [
    "soup = BeautifulSoup(\"<b></b>\", 'html.parser')\n",
    "tag = soup.b\n",
    "tag.append(\"Hello\")\n",
    "new_string = NavigableString(\" there\")\n",
    "tag.append(new_string)\n",
    "tag"
   ]
  },
  {
   "cell_type": "code",
   "execution_count": 42,
   "id": "39f962fc",
   "metadata": {},
   "outputs": [
    {
     "data": {
      "text/plain": [
       "['Hello', ' there']"
      ]
     },
     "execution_count": 42,
     "metadata": {},
     "output_type": "execute_result"
    }
   ],
   "source": [
    "tag.contents"
   ]
  },
  {
   "cell_type": "code",
   "execution_count": 43,
   "id": "462c65aa",
   "metadata": {},
   "outputs": [
    {
     "data": {
      "text/plain": [
       "<b>Hello there<!--Nice to see you.--></b>"
      ]
     },
     "execution_count": 43,
     "metadata": {},
     "output_type": "execute_result"
    }
   ],
   "source": [
    "from bs4 import Comment\n",
    "new_comment = Comment(\"Nice to see you.\")\n",
    "tag.append(new_comment)\n",
    "tag"
   ]
  },
  {
   "cell_type": "code",
   "execution_count": 44,
   "id": "9b1184d6",
   "metadata": {},
   "outputs": [
    {
     "data": {
      "text/plain": [
       "['Hello', ' there', 'Nice to see you.']"
      ]
     },
     "execution_count": 44,
     "metadata": {},
     "output_type": "execute_result"
    }
   ],
   "source": [
    "tag.contents"
   ]
  },
  {
   "cell_type": "code",
   "execution_count": 45,
   "id": "987c089d",
   "metadata": {},
   "outputs": [],
   "source": [
    "soup = BeautifulSoup(\"<b></b>\", 'html.parser')\n",
    "original_tag = soup.b"
   ]
  },
  {
   "cell_type": "code",
   "execution_count": 46,
   "id": "098ec961",
   "metadata": {},
   "outputs": [
    {
     "data": {
      "text/plain": [
       "<b><a href=\"http://www.example.com\"></a></b>"
      ]
     },
     "execution_count": 46,
     "metadata": {},
     "output_type": "execute_result"
    }
   ],
   "source": [
    "new_tag = soup.new_tag(\"a\", href=\"http://www.example.com\")\n",
    "original_tag.append(new_tag)\n",
    "original_tag"
   ]
  },
  {
   "cell_type": "code",
   "execution_count": 47,
   "id": "5d2f4c9d",
   "metadata": {},
   "outputs": [
    {
     "data": {
      "text/plain": [
       "<b><a href=\"http://www.example.com\">Link text.</a></b>"
      ]
     },
     "execution_count": 47,
     "metadata": {},
     "output_type": "execute_result"
    }
   ],
   "source": [
    "\n",
    "new_tag.string = \"Link text.\"\n",
    "original_tag"
   ]
  },
  {
   "cell_type": "markdown",
   "id": "1300eb8f",
   "metadata": {},
   "source": [
    "#### insert()\n",
    "- Using insert, I can add words in specified numeric position\n",
    "- append() adds words at the last of contents, where as insert will be added in specified index"
   ]
  },
  {
   "cell_type": "code",
   "execution_count": 48,
   "id": "2896acde",
   "metadata": {},
   "outputs": [],
   "source": [
    "markup = '<a href=\"http://example.com/\">Whiskys favorite toy is <i>ball</i></a>'\n",
    "soup = BeautifulSoup(markup, 'html.parser')\n",
    "tag = soup.a"
   ]
  },
  {
   "cell_type": "code",
   "execution_count": 49,
   "id": "05aabeab",
   "metadata": {},
   "outputs": [
    {
     "data": {
      "text/plain": [
       "<a href=\"http://example.com/\">Whiskys favorite toy is <i>ball</i></a>"
      ]
     },
     "execution_count": 49,
     "metadata": {},
     "output_type": "execute_result"
    }
   ],
   "source": [
    "tag"
   ]
  },
  {
   "cell_type": "code",
   "execution_count": 50,
   "id": "fcadb4ce",
   "metadata": {},
   "outputs": [
    {
     "data": {
      "text/plain": [
       "<a href=\"http://example.com/\">Whiskys favorite toy is foot<i>ball</i></a>"
      ]
     },
     "execution_count": 50,
     "metadata": {},
     "output_type": "execute_result"
    }
   ],
   "source": [
    "tag.insert(1, \"foot\")\n",
    "tag"
   ]
  },
  {
   "cell_type": "code",
   "execution_count": 51,
   "id": "ae8324c8",
   "metadata": {},
   "outputs": [
    {
     "data": {
      "text/plain": [
       "['Whiskys favorite toy is ', 'foot', <i>ball</i>]"
      ]
     },
     "execution_count": 51,
     "metadata": {},
     "output_type": "execute_result"
    }
   ],
   "source": [
    "tag.contents"
   ]
  },
  {
   "cell_type": "code",
   "execution_count": null,
   "id": "c61bafd8",
   "metadata": {},
   "outputs": [],
   "source": []
  }
 ],
 "metadata": {
  "kernelspec": {
   "display_name": "Python 3 (ipykernel)",
   "language": "python",
   "name": "python3"
  },
  "language_info": {
   "codemirror_mode": {
    "name": "ipython",
    "version": 3
   },
   "file_extension": ".py",
   "mimetype": "text/x-python",
   "name": "python",
   "nbconvert_exporter": "python",
   "pygments_lexer": "ipython3",
   "version": "3.9.12"
  }
 },
 "nbformat": 4,
 "nbformat_minor": 5
}
